{
 "cells": [
  {
   "cell_type": "code",
   "execution_count": 1,
   "metadata": {},
   "outputs": [],
   "source": [
    "import sys\n",
    "sys.path.append('../Utils')\n",
    "\n",
    "from utils import FFModel, TransformerModelv3, TransformerModelv4, MixtureModelv0, get_num_parameters\n",
    "from sklearn import model_selection\n",
    "\n",
    "import torch.optim as optim\n",
    "\n",
    "import skorch\n",
    "import joblib\n",
    "\n",
    "import os"
   ]
  },
  {
   "cell_type": "code",
   "execution_count": 2,
   "metadata": {},
   "outputs": [],
   "source": [
    "DATASET_DIR = '../Dataset'"
   ]
  },
  {
   "cell_type": "code",
   "execution_count": 3,
   "metadata": {},
   "outputs": [],
   "source": [
    "ds_info = joblib.load(os.path.join(DATASET_DIR, 'ds_info.jl'))\n",
    "\n",
    "columns = ds_info['columns']\n",
    "numerical_cols = ds_info['numerical_columns']\n",
    "categorical_cols = ds_info['categorical_columns']\n",
    "label_col = ds_info['target_column']"
   ]
  },
  {
   "cell_type": "code",
   "execution_count": 4,
   "metadata": {},
   "outputs": [],
   "source": [
    "def get_all_params(param_grid, model):\n",
    "    count_params = []\n",
    "    model_params_list = list(model_selection.ParameterGrid(param_grid))\n",
    "    for model_params in model_params_list:\n",
    "        model.set_params(**model_params)\n",
    "        #model.initialize()\n",
    "        n_params = get_num_parameters(model.module_)\n",
    "        count_params.append(n_params)\n",
    "        \n",
    "    return count_params    "
   ]
  },
  {
   "cell_type": "markdown",
   "metadata": {},
   "source": [
    "# MLP"
   ]
  },
  {
   "cell_type": "code",
   "execution_count": 5,
   "metadata": {},
   "outputs": [
    {
     "data": {
      "text/plain": [
       "[1153, 2081, 4129, 12289]"
      ]
     },
     "execution_count": 5,
     "metadata": {},
     "output_type": "execute_result"
    }
   ],
   "source": [
    "# MLP\n",
    "param_grid = {\n",
    "    'lr': [1e-3],\n",
    "    'optimizer': [optim.RMSprop], \n",
    "    'module__hidden_sizes': [[32, 16, 8], [32, 32, 16], [64, 32, 32], [128, 64, 32]],\n",
    "    'module__dropouts': [[0, 0, 0]],\n",
    "    'module__n_inputs': [len(columns) - 1],\n",
    "    'module__n_outputs': [1]\n",
    "}\n",
    "\n",
    "get_all_params(param_grid, skorch.NeuralNetBinaryClassifier(\n",
    "    module=FFModel\n",
    "))"
   ]
  },
  {
   "cell_type": "markdown",
   "metadata": {},
   "source": [
    "# Transformer v3"
   ]
  },
  {
   "cell_type": "code",
   "execution_count": 6,
   "metadata": {},
   "outputs": [
    {
     "data": {
      "text/plain": [
       "[1625, 3745, 9521, 1897, 4273, 10561, 2441, 5329, 12641]"
      ]
     },
     "execution_count": 6,
     "metadata": {},
     "output_type": "execute_result"
    }
   ],
   "source": [
    "n_cat_labels = 96\n",
    "\n",
    "param_grid = {  \n",
    "    'lr': [1e-3],\n",
    "    'optimizer': [optim.RMSprop],\n",
    "    'module__ninp': [8, 16, 32],\n",
    "    'module__nhead': [1],\n",
    "    'module__nhid': [16, 32, 64],\n",
    "    'module__nlayers': [1],\n",
    "    'module__dropout': [0.1],\n",
    "    \n",
    "    # No searcheable parameters\n",
    "    'module__n_cat_labels': [n_cat_labels],\n",
    "    'module__n_num_cols': [len(numerical_cols)],\n",
    "    'module__n_cat_cols': [len(categorical_cols)],\n",
    "    'module__n_features': [len(columns) - 1]\n",
    "    \n",
    "}\n",
    "\n",
    "get_all_params(param_grid, skorch.NeuralNetClassifier(\n",
    "    module=TransformerModelv3\n",
    "))"
   ]
  },
  {
   "cell_type": "markdown",
   "metadata": {},
   "source": [
    "# Transformer v4"
   ]
  },
  {
   "cell_type": "code",
   "execution_count": 7,
   "metadata": {},
   "outputs": [
    {
     "data": {
      "text/plain": [
       "[1049, 2593, 7217, 1321, 3121, 8257, 1865, 4177, 10337]"
      ]
     },
     "execution_count": 7,
     "metadata": {},
     "output_type": "execute_result"
    }
   ],
   "source": [
    "param_grid = {  \n",
    "    'lr': [1e-3],\n",
    "    'optimizer': [optim.RMSprop],\n",
    "    'module__ninp': [8, 16, 32],\n",
    "    'module__nhead': [1],\n",
    "    'module__nhid': [16, 32, 64],\n",
    "    'module__nlayers': [1],\n",
    "    'module__dropout': [0.1],\n",
    "    \n",
    "    # No searcheable parameters\n",
    "    'module__n_features': [len(columns) - 1]\n",
    "    \n",
    "}\n",
    "\n",
    "get_all_params(param_grid, skorch.NeuralNetClassifier(\n",
    "    module=TransformerModelv4\n",
    "))"
   ]
  },
  {
   "cell_type": "markdown",
   "metadata": {},
   "source": [
    "# Mixture model v0"
   ]
  },
  {
   "cell_type": "code",
   "execution_count": 8,
   "metadata": {},
   "outputs": [
    {
     "data": {
      "text/plain": [
       "[2528, 2560, 2592, 5456, 5488, 5520, 4400, 4448, 4496, 9120, 9168, 9216]"
      ]
     },
     "execution_count": 8,
     "metadata": {},
     "output_type": "execute_result"
    }
   ],
   "source": [
    "param_grid = {  \n",
    "    'lr': [1e-3],\n",
    "    'optimizer': [optim.RMSprop],\n",
    "    'module__ninp': [8, 16],\n",
    "    'module__nhead': [1],\n",
    "    'module__nhid': [16, 32],\n",
    "    'module__nmodels': [2, 3, 4],\n",
    "    'module__dropout': [0.15],\n",
    "    \n",
    "    # No searcheable parameters\n",
    "    'module__nfeatures': [len(columns) - 1],\n",
    "    'module__nclasses': [1]\n",
    "}\n",
    "\n",
    "get_all_params(param_grid, skorch.NeuralNetClassifier(\n",
    "    module=MixtureModelv0\n",
    "))"
   ]
  },
  {
   "cell_type": "code",
   "execution_count": null,
   "metadata": {},
   "outputs": [],
   "source": []
  }
 ],
 "metadata": {
  "kernelspec": {
   "display_name": "Python 3",
   "language": "python",
   "name": "python3"
  },
  "language_info": {
   "codemirror_mode": {
    "name": "ipython",
    "version": 3
   },
   "file_extension": ".py",
   "mimetype": "text/x-python",
   "name": "python",
   "nbconvert_exporter": "python",
   "pygments_lexer": "ipython3",
   "version": "3.8.8"
  }
 },
 "nbformat": 4,
 "nbformat_minor": 4
}
