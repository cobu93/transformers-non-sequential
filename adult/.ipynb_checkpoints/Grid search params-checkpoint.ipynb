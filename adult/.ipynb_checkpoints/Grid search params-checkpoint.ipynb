{
 "cells": [
  {
   "cell_type": "code",
   "execution_count": 4,
   "metadata": {},
   "outputs": [],
   "source": [
    "import sys\n",
    "sys.path.append('Utils')\n",
    "\n",
    "from utils import FFModel, TransformerModelv3, TransformerModelv4, MixtureModelv0, get_num_parameters\n",
    "from sklearn import model_selection\n",
    "\n",
    "import torch.optim as optim\n",
    "\n",
    "import skorch"
   ]
  },
  {
   "cell_type": "code",
   "execution_count": 22,
   "metadata": {},
   "outputs": [],
   "source": [
    "def get_all_params(param_grid, model):\n",
    "    count_params = []\n",
    "    model_params_list = list(model_selection.ParameterGrid(param_grid))\n",
    "    for model_params in model_params_list:\n",
    "        model.set_params(**model_params)\n",
    "        #model.initialize()\n",
    "        n_params = get_num_parameters(model.module_)\n",
    "        count_params.append(n_params)\n",
    "        \n",
    "    return count_params    "
   ]
  },
  {
   "cell_type": "markdown",
   "metadata": {},
   "source": [
    "# MLP"
   ]
  },
  {
   "cell_type": "code",
   "execution_count": 23,
   "metadata": {},
   "outputs": [
    {
     "data": {
      "text/plain": [
       "[2049, 3249, 2049, 3249, 2049, 3249]"
      ]
     },
     "execution_count": 23,
     "metadata": {},
     "output_type": "execute_result"
    }
   ],
   "source": [
    "# MLP\n",
    "param_grid = {\n",
    "    'lr': [1e-3],\n",
    "    'optimizer': [optim.RMSprop], \n",
    "    'module__hidden_sizes': [[32, 32, 16], [64, 32, 8]],\n",
    "    'module__dropouts': [[0, 0, 0], [0.05, 0.1, 0.1], [0.05, 0.1, 0.05]],\n",
    "    'module__n_inputs': [13],\n",
    "    'module__n_outputs': [1]\n",
    "}\n",
    "\n",
    "get_all_params(param_grid, skorch.NeuralNetBinaryClassifier(\n",
    "    module=FFModel\n",
    "))"
   ]
  },
  {
   "cell_type": "markdown",
   "metadata": {},
   "source": [
    "# Transformer v3"
   ]
  },
  {
   "cell_type": "code",
   "execution_count": 24,
   "metadata": {},
   "outputs": [
    {
     "ename": "NameError",
     "evalue": "name 'n_cat_labels' is not defined",
     "output_type": "error",
     "traceback": [
      "\u001b[0;31m---------------------------------------------------------------------------\u001b[0m",
      "\u001b[0;31mNameError\u001b[0m                                 Traceback (most recent call last)",
      "\u001b[0;32m<ipython-input-24-1ac817e8f151>\u001b[0m in \u001b[0;36m<module>\u001b[0;34m\u001b[0m\n\u001b[1;32m      9\u001b[0m \u001b[0;34m\u001b[0m\u001b[0m\n\u001b[1;32m     10\u001b[0m     \u001b[0;31m# No searcheable parameters\u001b[0m\u001b[0;34m\u001b[0m\u001b[0;34m\u001b[0m\u001b[0;34m\u001b[0m\u001b[0m\n\u001b[0;32m---> 11\u001b[0;31m     \u001b[0;34m'module__n_cat_labels'\u001b[0m\u001b[0;34m:\u001b[0m \u001b[0;34m[\u001b[0m\u001b[0mn_cat_labels\u001b[0m\u001b[0;34m]\u001b[0m\u001b[0;34m,\u001b[0m\u001b[0;34m\u001b[0m\u001b[0;34m\u001b[0m\u001b[0m\n\u001b[0m\u001b[1;32m     12\u001b[0m     \u001b[0;34m'module__n_num_cols'\u001b[0m\u001b[0;34m:\u001b[0m \u001b[0;34m[\u001b[0m\u001b[0mlen\u001b[0m\u001b[0;34m(\u001b[0m\u001b[0mnumerical_cols\u001b[0m\u001b[0;34m)\u001b[0m\u001b[0;34m]\u001b[0m\u001b[0;34m,\u001b[0m\u001b[0;34m\u001b[0m\u001b[0;34m\u001b[0m\u001b[0m\n\u001b[1;32m     13\u001b[0m     \u001b[0;34m'module__n_cat_cols'\u001b[0m\u001b[0;34m:\u001b[0m \u001b[0;34m[\u001b[0m\u001b[0mlen\u001b[0m\u001b[0;34m(\u001b[0m\u001b[0mcategorical_cols\u001b[0m\u001b[0;34m)\u001b[0m\u001b[0;34m]\u001b[0m\u001b[0;34m,\u001b[0m\u001b[0;34m\u001b[0m\u001b[0;34m\u001b[0m\u001b[0m\n",
      "\u001b[0;31mNameError\u001b[0m: name 'n_cat_labels' is not defined"
     ]
    }
   ],
   "source": [
    "param_grid = {  \n",
    "    'lr': [1e-3],\n",
    "    'optimizer': [optim.RMSprop],\n",
    "    'module__ninp': [5, 25],\n",
    "    'module__nhead': [1],\n",
    "    'module__nhid': [5, 25],\n",
    "    'module__nlayers': [1],\n",
    "    'module__dropout': [0.1, 0.2],\n",
    "    \n",
    "    # No searcheable parameters\n",
    "    'module__n_cat_labels': [n_cat_labels],\n",
    "    'module__n_num_cols': [len(numerical_cols)],\n",
    "    'module__n_cat_cols': [len(categorical_cols)],\n",
    "    'module__n_features': [len(columns) - 1]\n",
    "    \n",
    "}\n",
    "\n",
    "get_all_params(param_grid, skorch.NeuralNetClassifier(\n",
    "    module=Transformerv3\n",
    "))"
   ]
  },
  {
   "cell_type": "markdown",
   "metadata": {},
   "source": [
    "# Transformer v4"
   ]
  },
  {
   "cell_type": "code",
   "execution_count": null,
   "metadata": {},
   "outputs": [],
   "source": [
    "param_grid = {  \n",
    "    'lr': [1e-3],\n",
    "    'optimizer': [optim.RMSprop],\n",
    "    'module__ninp': [5, 25],\n",
    "    'module__nhead': [1],\n",
    "    'module__nhid': [5, 25],\n",
    "    'module__nlayers': [1],\n",
    "    'module__dropout': [0.1, 0.2],\n",
    "    \n",
    "    # No searcheable parameters\n",
    "    'module__n_features': [len(columns) - 1]\n",
    "    \n",
    "}"
   ]
  },
  {
   "cell_type": "markdown",
   "metadata": {},
   "source": [
    "# Mixture model v0"
   ]
  },
  {
   "cell_type": "code",
   "execution_count": null,
   "metadata": {},
   "outputs": [],
   "source": [
    "param_grid = {  \n",
    "    'lr': [1e-3],\n",
    "    'optimizer': [optim.RMSprop],\n",
    "    'module__ninp': [5],\n",
    "    'module__nhead': [1],\n",
    "    'module__nhid': [16, 32],\n",
    "    'module__nmodels': [2, 4, 8],\n",
    "    'module__dropout': [0.15],\n",
    "    \n",
    "    # No searcheable parameters\n",
    "    'module__nfeatures': [len(columns) - 1],\n",
    "    'module__nclasses': [1]\n",
    "    \n",
    "}"
   ]
  }
 ],
 "metadata": {
  "kernelspec": {
   "display_name": "Python 3",
   "language": "python",
   "name": "python3"
  },
  "language_info": {
   "codemirror_mode": {
    "name": "ipython",
    "version": 3
   },
   "file_extension": ".py",
   "mimetype": "text/x-python",
   "name": "python",
   "nbconvert_exporter": "python",
   "pygments_lexer": "ipython3",
   "version": "3.8.8"
  }
 },
 "nbformat": 4,
 "nbformat_minor": 4
}
