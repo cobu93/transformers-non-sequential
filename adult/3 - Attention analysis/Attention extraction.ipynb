{
 "cells": [
  {
   "cell_type": "code",
   "execution_count": 1,
   "metadata": {
    "execution": {
     "iopub.execute_input": "2021-06-11T17:49:12.253235Z",
     "iopub.status.busy": "2021-06-11T17:49:12.252259Z",
     "iopub.status.idle": "2021-06-11T17:49:13.022075Z",
     "shell.execute_reply": "2021-06-11T17:49:13.021373Z"
    }
   },
   "outputs": [],
   "source": [
    "import sys\n",
    "sys.path.append('../Utils')\n",
    "\n",
    "import pandas as pd\n",
    "import numpy as np\n",
    "from sklearn import pipeline, preprocessing, model_selection, base, compose, metrics\n",
    "import torch\n",
    "import torch.nn as nn\n",
    "import torch.optim as optim\n",
    "import skorch\n",
    "import os\n",
    "import joblib\n",
    "\n",
    "from utils import ReorderTransformer, DTypeTransformer, LabelingTransformer, RestoreMoveCheckpoint, DimensionTransformer, TransformerModelv4, build_inference_pipe\n",
    "\n",
    "SEED = 42\n",
    "\n",
    "torch.manual_seed(SEED)\n",
    "np.random.seed(SEED)"
   ]
  },
  {
   "cell_type": "code",
   "execution_count": 2,
   "metadata": {
    "execution": {
     "iopub.execute_input": "2021-06-11T17:49:13.024953Z",
     "iopub.status.busy": "2021-06-11T17:49:13.024417Z",
     "iopub.status.idle": "2021-06-11T17:49:13.026037Z",
     "shell.execute_reply": "2021-06-11T17:49:13.026467Z"
    }
   },
   "outputs": [],
   "source": [
    "DATASET_DIR = '../Dataset'\n",
    "MODEL = '../Models/transformer_v4/transformer_v4_baseline.jl'"
   ]
  },
  {
   "cell_type": "markdown",
   "metadata": {},
   "source": [
    "# Load datasets"
   ]
  },
  {
   "cell_type": "code",
   "execution_count": 3,
   "metadata": {
    "execution": {
     "iopub.execute_input": "2021-06-11T17:49:13.030079Z",
     "iopub.status.busy": "2021-06-11T17:49:13.029537Z",
     "iopub.status.idle": "2021-06-11T17:49:13.096523Z",
     "shell.execute_reply": "2021-06-11T17:49:13.097070Z"
    }
   },
   "outputs": [],
   "source": [
    "train_df = pd.read_csv(os.path.join(DATASET_DIR, 'n_train.csv'))\n",
    "dev_df = pd.read_csv(os.path.join(DATASET_DIR, 'n_dev.csv'))"
   ]
  },
  {
   "cell_type": "code",
   "execution_count": 4,
   "metadata": {
    "execution": {
     "iopub.execute_input": "2021-06-11T17:49:13.100358Z",
     "iopub.status.busy": "2021-06-11T17:49:13.099953Z",
     "iopub.status.idle": "2021-06-11T17:49:13.111813Z",
     "shell.execute_reply": "2021-06-11T17:49:13.111383Z"
    }
   },
   "outputs": [],
   "source": [
    "df = pd.concat((train_df, dev_df))"
   ]
  },
  {
   "cell_type": "code",
   "execution_count": 5,
   "metadata": {
    "execution": {
     "iopub.execute_input": "2021-06-11T17:49:13.115414Z",
     "iopub.status.busy": "2021-06-11T17:49:13.114748Z",
     "iopub.status.idle": "2021-06-11T17:49:13.116300Z",
     "shell.execute_reply": "2021-06-11T17:49:13.116841Z"
    }
   },
   "outputs": [],
   "source": [
    "train_indices = np.arange(0, train_df.shape[0])\n",
    "dev_indices = np.arange(train_df.shape[0], train_df.shape[0] + dev_df.shape[0])"
   ]
  },
  {
   "cell_type": "code",
   "execution_count": 6,
   "metadata": {
    "execution": {
     "iopub.execute_input": "2021-06-11T17:49:13.122020Z",
     "iopub.status.busy": "2021-06-11T17:49:13.121482Z",
     "iopub.status.idle": "2021-06-11T17:49:13.122887Z",
     "shell.execute_reply": "2021-06-11T17:49:13.123302Z"
    }
   },
   "outputs": [],
   "source": [
    "ds_info = joblib.load(os.path.join(DATASET_DIR, 'ds_info.jl'))\n",
    "\n",
    "columns = ds_info['columns']\n",
    "numerical_cols = ds_info['numerical_columns']\n",
    "categorical_cols = ds_info['categorical_columns']\n",
    "label_col = ds_info['target_column']"
   ]
  },
  {
   "cell_type": "markdown",
   "metadata": {},
   "source": [
    "# Load model"
   ]
  },
  {
   "cell_type": "code",
   "execution_count": 7,
   "metadata": {
    "execution": {
     "iopub.execute_input": "2021-06-11T17:49:13.126180Z",
     "iopub.status.busy": "2021-06-11T17:49:13.125605Z",
     "iopub.status.idle": "2021-06-11T17:49:15.591223Z",
     "shell.execute_reply": "2021-06-11T17:49:15.591834Z"
    }
   },
   "outputs": [],
   "source": [
    "pipe = joblib.load(MODEL)"
   ]
  },
  {
   "cell_type": "code",
   "execution_count": 8,
   "metadata": {
    "execution": {
     "iopub.execute_input": "2021-06-11T17:49:15.597451Z",
     "iopub.status.busy": "2021-06-11T17:49:15.596483Z",
     "iopub.status.idle": "2021-06-11T17:49:16.127670Z",
     "shell.execute_reply": "2021-06-11T17:49:16.128250Z"
    }
   },
   "outputs": [
    {
     "data": {
      "text/plain": [
       "0.8602"
      ]
     },
     "execution_count": 8,
     "metadata": {},
     "output_type": "execute_result"
    }
   ],
   "source": [
    "pipe.score(dev_df.drop(label_col, axis=1), dev_df[label_col].values[:, np.newaxis].astype(np.float32))"
   ]
  },
  {
   "cell_type": "markdown",
   "metadata": {},
   "source": [
    "# Hook registration and attention extraction"
   ]
  },
  {
   "cell_type": "code",
   "execution_count": 9,
   "metadata": {
    "execution": {
     "iopub.execute_input": "2021-06-11T17:49:16.131023Z",
     "iopub.status.busy": "2021-06-11T17:49:16.130446Z",
     "iopub.status.idle": "2021-06-11T17:49:16.132364Z",
     "shell.execute_reply": "2021-06-11T17:49:16.131788Z"
    }
   },
   "outputs": [],
   "source": [
    "attn_weights = []"
   ]
  },
  {
   "cell_type": "code",
   "execution_count": 10,
   "metadata": {
    "execution": {
     "iopub.execute_input": "2021-06-11T17:49:16.134992Z",
     "iopub.status.busy": "2021-06-11T17:49:16.134579Z",
     "iopub.status.idle": "2021-06-11T17:49:16.135820Z",
     "shell.execute_reply": "2021-06-11T17:49:16.136175Z"
    }
   },
   "outputs": [],
   "source": [
    "def attention_extraction(self, input, output):\n",
    "    attn_weights.append(output[1].detach().cpu().numpy())"
   ]
  },
  {
   "cell_type": "code",
   "execution_count": 11,
   "metadata": {
    "execution": {
     "iopub.execute_input": "2021-06-11T17:49:16.138547Z",
     "iopub.status.busy": "2021-06-11T17:49:16.138181Z",
     "iopub.status.idle": "2021-06-11T17:49:16.139562Z",
     "shell.execute_reply": "2021-06-11T17:49:16.139918Z"
    }
   },
   "outputs": [],
   "source": [
    "for enc_layer in pipe['classifier'].module_.transformer_encoder.layers:\n",
    "    enc_layer.self_attn.register_forward_hook(attention_extraction)"
   ]
  },
  {
   "cell_type": "code",
   "execution_count": 12,
   "metadata": {
    "execution": {
     "iopub.execute_input": "2021-06-11T17:49:16.142784Z",
     "iopub.status.busy": "2021-06-11T17:49:16.142371Z",
     "iopub.status.idle": "2021-06-11T17:49:19.338207Z",
     "shell.execute_reply": "2021-06-11T17:49:19.337580Z"
    }
   },
   "outputs": [],
   "source": [
    "attn_weights = []\n",
    "\n",
    "preds = pipe.predict(df.drop(label_col, axis=1))"
   ]
  },
  {
   "cell_type": "code",
   "execution_count": 13,
   "metadata": {
    "execution": {
     "iopub.execute_input": "2021-06-11T17:49:19.341886Z",
     "iopub.status.busy": "2021-06-11T17:49:19.341218Z",
     "iopub.status.idle": "2021-06-11T17:49:19.352519Z",
     "shell.execute_reply": "2021-06-11T17:49:19.352993Z"
    }
   },
   "outputs": [],
   "source": [
    "attn_weights = np.vstack(attn_weights)"
   ]
  },
  {
   "cell_type": "code",
   "execution_count": 14,
   "metadata": {
    "execution": {
     "iopub.execute_input": "2021-06-11T17:49:19.356208Z",
     "iopub.status.busy": "2021-06-11T17:49:19.355505Z",
     "iopub.status.idle": "2021-06-11T17:49:19.356874Z",
     "shell.execute_reply": "2021-06-11T17:49:19.357436Z"
    }
   },
   "outputs": [],
   "source": [
    "assert attn_weights.shape[0] == df.shape[0], 'Shapes does not match'"
   ]
  },
  {
   "cell_type": "code",
   "execution_count": 15,
   "metadata": {
    "execution": {
     "iopub.execute_input": "2021-06-11T17:49:19.360567Z",
     "iopub.status.busy": "2021-06-11T17:49:19.359935Z",
     "iopub.status.idle": "2021-06-11T17:49:19.397613Z",
     "shell.execute_reply": "2021-06-11T17:49:19.398300Z"
    }
   },
   "outputs": [],
   "source": [
    "_ = joblib.dump((attn_weights[train_indices], train_df[label_col]), os.path.join(DATASET_DIR, 'attn_train.jl'))\n",
    "_ = joblib.dump((attn_weights[dev_indices], dev_df[label_col]), os.path.join(DATASET_DIR, 'attn_dev.jl'))"
   ]
  }
 ],
 "metadata": {
  "kernelspec": {
   "display_name": "Python 3",
   "language": "python",
   "name": "python3"
  },
  "language_info": {
   "codemirror_mode": {
    "name": "ipython",
    "version": 3
   },
   "file_extension": ".py",
   "mimetype": "text/x-python",
   "name": "python",
   "nbconvert_exporter": "python",
   "pygments_lexer": "ipython3",
   "version": "3.8.8"
  }
 },
 "nbformat": 4,
 "nbformat_minor": 4
}
