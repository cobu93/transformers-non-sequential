{
 "cells": [
  {
   "cell_type": "code",
   "execution_count": 1,
   "metadata": {
    "execution": {
     "iopub.execute_input": "2021-06-11T17:50:23.835622Z",
     "iopub.status.busy": "2021-06-11T17:50:23.834893Z",
     "iopub.status.idle": "2021-06-11T17:50:24.688853Z",
     "shell.execute_reply": "2021-06-11T17:50:24.688149Z"
    }
   },
   "outputs": [],
   "source": [
    "import sys\n",
    "sys.path.append('../Utils')\n",
    "sys.setrecursionlimit(10000)\n",
    "\n",
    "import joblib\n",
    "import pandas as pd\n",
    "from sklearn import pipeline, preprocessing, metrics, model_selection, decomposition, cluster, compose\n",
    "from scipy import stats\n",
    "import numpy as np\n",
    "\n",
    "import math\n",
    "\n",
    "import matplotlib.pyplot as plt\n",
    "\n",
    "%matplotlib inline\n",
    "\n",
    "from utils import ReorderTransformer, LabelingTransformer, ClusterMultitree, AttentionTransformer, CustomMetricPipeline\n",
    "\n",
    "import sys\n",
    "import os\n",
    "import torch\n",
    "\n",
    "import joblib\n",
    "\n",
    "SEED = 42"
   ]
  },
  {
   "cell_type": "code",
   "execution_count": 2,
   "metadata": {
    "execution": {
     "iopub.execute_input": "2021-06-11T17:50:24.692028Z",
     "iopub.status.busy": "2021-06-11T17:50:24.691423Z",
     "iopub.status.idle": "2021-06-11T17:50:24.693762Z",
     "shell.execute_reply": "2021-06-11T17:50:24.693150Z"
    }
   },
   "outputs": [],
   "source": [
    "DATASET_DIR = '../Dataset'\n",
    "MODEL_DIR = '../Models/cluster_multitree'"
   ]
  },
  {
   "cell_type": "markdown",
   "metadata": {},
   "source": [
    "## Dataset"
   ]
  },
  {
   "cell_type": "code",
   "execution_count": 3,
   "metadata": {
    "execution": {
     "iopub.execute_input": "2021-06-11T17:50:24.697156Z",
     "iopub.status.busy": "2021-06-11T17:50:24.696618Z",
     "iopub.status.idle": "2021-06-11T17:50:24.757371Z",
     "shell.execute_reply": "2021-06-11T17:50:24.757712Z"
    }
   },
   "outputs": [],
   "source": [
    "train_df = pd.read_csv(os.path.join(DATASET_DIR, 'n_train.csv'))\n",
    "dev_df = pd.read_csv(os.path.join(DATASET_DIR, 'n_dev.csv'))"
   ]
  },
  {
   "cell_type": "code",
   "execution_count": 4,
   "metadata": {
    "execution": {
     "iopub.execute_input": "2021-06-11T17:50:24.761362Z",
     "iopub.status.busy": "2021-06-11T17:50:24.760771Z",
     "iopub.status.idle": "2021-06-11T17:50:24.776790Z",
     "shell.execute_reply": "2021-06-11T17:50:24.776031Z"
    }
   },
   "outputs": [],
   "source": [
    "train_X, train_y = joblib.load(os.path.join(DATASET_DIR, 'attn_train.jl'))\n",
    "dev_X, dev_y = joblib.load(os.path.join(DATASET_DIR, 'attn_dev.jl'))"
   ]
  },
  {
   "cell_type": "code",
   "execution_count": 5,
   "metadata": {
    "execution": {
     "iopub.execute_input": "2021-06-11T17:50:24.780177Z",
     "iopub.status.busy": "2021-06-11T17:50:24.779449Z",
     "iopub.status.idle": "2021-06-11T17:50:24.790076Z",
     "shell.execute_reply": "2021-06-11T17:50:24.789301Z"
    }
   },
   "outputs": [],
   "source": [
    "X = np.concatenate((train_X, dev_X))\n",
    "y = np.concatenate((train_y, dev_y))"
   ]
  },
  {
   "cell_type": "code",
   "execution_count": 6,
   "metadata": {
    "execution": {
     "iopub.execute_input": "2021-06-11T17:50:24.794046Z",
     "iopub.status.busy": "2021-06-11T17:50:24.793342Z",
     "iopub.status.idle": "2021-06-11T17:50:24.806814Z",
     "shell.execute_reply": "2021-06-11T17:50:24.806172Z"
    }
   },
   "outputs": [],
   "source": [
    "df = pd.concat((train_df, dev_df))"
   ]
  },
  {
   "cell_type": "code",
   "execution_count": 7,
   "metadata": {
    "execution": {
     "iopub.execute_input": "2021-06-11T17:50:24.810842Z",
     "iopub.status.busy": "2021-06-11T17:50:24.810104Z",
     "iopub.status.idle": "2021-06-11T17:50:24.813037Z",
     "shell.execute_reply": "2021-06-11T17:50:24.812293Z"
    }
   },
   "outputs": [],
   "source": [
    "train_indices = np.arange(0, train_X.shape[0])\n",
    "dev_indices = np.arange(train_X.shape[0], train_X.shape[0] + dev_X.shape[0])"
   ]
  },
  {
   "cell_type": "code",
   "execution_count": 8,
   "metadata": {
    "execution": {
     "iopub.execute_input": "2021-06-11T17:50:24.816317Z",
     "iopub.status.busy": "2021-06-11T17:50:24.815817Z",
     "iopub.status.idle": "2021-06-11T17:50:24.817859Z",
     "shell.execute_reply": "2021-06-11T17:50:24.818252Z"
    }
   },
   "outputs": [],
   "source": [
    "ds_info = joblib.load(os.path.join(DATASET_DIR, 'ds_info.jl'))\n",
    "\n",
    "columns = ds_info['columns']\n",
    "numerical_cols = ds_info['numerical_columns']\n",
    "categorical_cols = ds_info['categorical_columns']\n",
    "label_col = ds_info['target_column']"
   ]
  },
  {
   "cell_type": "code",
   "execution_count": 9,
   "metadata": {
    "execution": {
     "iopub.execute_input": "2021-06-11T17:50:24.820893Z",
     "iopub.status.busy": "2021-06-11T17:50:24.820533Z",
     "iopub.status.idle": "2021-06-11T17:50:24.822053Z",
     "shell.execute_reply": "2021-06-11T17:50:24.822444Z"
    }
   },
   "outputs": [],
   "source": [
    "X = X.reshape(-1, (len(columns) - 1) ** 2)"
   ]
  },
  {
   "cell_type": "markdown",
   "metadata": {},
   "source": [
    "## Grid search on number of clusters"
   ]
  },
  {
   "cell_type": "markdown",
   "metadata": {},
   "source": [
    "### Visualization"
   ]
  },
  {
   "cell_type": "code",
   "execution_count": 10,
   "metadata": {
    "execution": {
     "iopub.execute_input": "2021-06-11T17:50:24.825081Z",
     "iopub.status.busy": "2021-06-11T17:50:24.824727Z",
     "iopub.status.idle": "2021-06-11T17:50:25.161770Z",
     "shell.execute_reply": "2021-06-11T17:50:25.162202Z"
    }
   },
   "outputs": [],
   "source": [
    "pca = decomposition.PCA(n_components=2)\n",
    "pca.fit(X[train_indices])\n",
    "X_pca = X#pca.transform(X)"
   ]
  },
  {
   "cell_type": "code",
   "execution_count": 11,
   "metadata": {
    "execution": {
     "iopub.execute_input": "2021-06-11T17:50:25.165120Z",
     "iopub.status.busy": "2021-06-11T17:50:25.164047Z",
     "iopub.status.idle": "2021-06-11T17:50:25.172146Z",
     "shell.execute_reply": "2021-06-11T17:50:25.172720Z"
    }
   },
   "outputs": [
    {
     "data": {
      "text/plain": [
       "(4000, 4)"
      ]
     },
     "execution_count": 11,
     "metadata": {},
     "output_type": "execute_result"
    }
   ],
   "source": [
    "X_pca.shape"
   ]
  },
  {
   "cell_type": "markdown",
   "metadata": {},
   "source": [
    "#### Original"
   ]
  },
  {
   "cell_type": "code",
   "execution_count": 13,
   "metadata": {},
   "outputs": [
    {
     "data": {
      "text/plain": [
       "<matplotlib.collections.PathCollection at 0x7fce24f13130>"
      ]
     },
     "execution_count": 13,
     "metadata": {},
     "output_type": "execute_result"
    },
    {
     "data": {
      "image/png": "[encoded data removed]",
      "text/plain": [
       "<Figure size 432x288 with 1 Axes>"
      ]
     },
     "metadata": {
      "needs_background": "light"
     },
     "output_type": "display_data"
    }
   ],
   "source": [
    "colors = np.array(['#377eb8', '#ff7f00'])\n",
    "plt.scatter(X_pca[train_indices, 0], X_pca[train_indices, 1], color=colors[y[train_indices].astype(int)])"
   ]
  },
  {
   "cell_type": "markdown",
   "metadata": {},
   "source": [
    "#### Clustering"
   ]
  },
  {
   "cell_type": "code",
   "execution_count": 14,
   "metadata": {
    "execution": {
     "iopub.execute_input": "2021-06-11T17:50:25.175234Z",
     "iopub.status.busy": "2021-06-11T17:50:25.174479Z",
     "iopub.status.idle": "2021-06-11T17:51:03.095236Z",
     "shell.execute_reply": "2021-06-11T17:51:03.095852Z"
    }
   },
   "outputs": [
    {
     "data": {
      "image/png": "[encoded data removed]",
      "text/plain": [
       "<Figure size 1080x576 with 9 Axes>"
      ]
     },
     "metadata": {},
     "output_type": "display_data"
    }
   ],
   "source": [
    "test_range = [i for i in range(2, 11)]\n",
    "\n",
    "total_tests = len(test_range)\n",
    "cols = 3\n",
    "rows = math.ceil(total_tests / 3)\n",
    "\n",
    "\n",
    "fig, axes = plt.subplots(rows, cols, figsize=(15, 8))\n",
    "\n",
    "for row in range(rows):\n",
    "    for col in range(cols):\n",
    "        ax = axes[row, col]\n",
    "        \n",
    "        test_index = row * cols + col\n",
    "        \n",
    "        if test_index < len(test_range):\n",
    "            n_clusters = test_range[test_index]\n",
    "\n",
    "            kmeans = cluster.KMeans(n_clusters=n_clusters, random_state=SEED)\n",
    "            kmeans.fit(X[train_indices])\n",
    "            y_clust = kmeans.predict(X[train_indices])\n",
    "\n",
    "            ax.scatter(X_pca[train_indices, 0], X_pca[train_indices, 1], c=y_clust)\n",
    "            ax.set_title('{} clusters'.format(n_clusters))\n",
    "            \n",
    "            ax.tick_params(left=False, bottom=False, labelleft=False, labelbottom=False)\n",
    "\n",
    "fig.tight_layout()\n",
    "fig.savefig('Attention clustering.png')\n",
    "plt.show()"
   ]
  },
  {
   "cell_type": "markdown",
   "metadata": {},
   "source": [
    "### Processing original data"
   ]
  },
  {
   "cell_type": "code",
   "execution_count": 15,
   "metadata": {
    "execution": {
     "iopub.execute_input": "2021-06-11T17:51:03.100482Z",
     "iopub.status.busy": "2021-06-11T17:51:03.099901Z",
     "iopub.status.idle": "2021-06-11T17:51:05.593779Z",
     "shell.execute_reply": "2021-06-11T17:51:05.593144Z"
    }
   },
   "outputs": [],
   "source": [
    "transformer = joblib.load('../Models/transformer_v4/transformer_v4_baseline.jl')"
   ]
  },
  {
   "cell_type": "code",
   "execution_count": 16,
   "metadata": {
    "execution": {
     "iopub.execute_input": "2021-06-11T17:51:05.597656Z",
     "iopub.status.busy": "2021-06-11T17:51:05.597060Z",
     "iopub.status.idle": "2021-06-11T17:51:05.675206Z",
     "shell.execute_reply": "2021-06-11T17:51:05.674603Z"
    }
   },
   "outputs": [],
   "source": [
    "inp = transformer['preprocessing'].transform(train_df.drop(label_col, axis=1))"
   ]
  },
  {
   "cell_type": "code",
   "execution_count": 17,
   "metadata": {
    "execution": {
     "iopub.execute_input": "2021-06-11T17:51:05.678466Z",
     "iopub.status.busy": "2021-06-11T17:51:05.677884Z",
     "iopub.status.idle": "2021-06-11T17:51:05.680426Z",
     "shell.execute_reply": "2021-06-11T17:51:05.679849Z"
    }
   },
   "outputs": [
    {
     "data": {
      "text/plain": [
       "TransformerModelv4(\n",
       "  (transformer_encoder): TransformerEncoder(\n",
       "    (layers): ModuleList(\n",
       "      (0): TransformerEncoderLayer(\n",
       "        (self_attn): MultiheadAttention(\n",
       "          (out_proj): Linear(in_features=64, out_features=64, bias=True)\n",
       "        )\n",
       "        (linear1): Linear(in_features=64, out_features=64, bias=True)\n",
       "        (dropout): Dropout(p=0.07, inplace=False)\n",
       "        (linear2): Linear(in_features=64, out_features=64, bias=True)\n",
       "        (norm1): LayerNorm((64,), eps=1e-05, elementwise_affine=True)\n",
       "        (norm2): LayerNorm((64,), eps=1e-05, elementwise_affine=True)\n",
       "        (dropout1): Dropout(p=0.07, inplace=False)\n",
       "        (dropout2): Dropout(p=0.07, inplace=False)\n",
       "      )\n",
       "    )\n",
       "  )\n",
       "  (embedding): ModuleList(\n",
       "    (0): Linear(in_features=1, out_features=64, bias=True)\n",
       "    (1): Linear(in_features=1, out_features=64, bias=True)\n",
       "  )\n",
       "  (decoder): Linear(in_features=128, out_features=2, bias=True)\n",
       "  (activation): Sigmoid()\n",
       ")"
      ]
     },
     "execution_count": 17,
     "metadata": {},
     "output_type": "execute_result"
    }
   ],
   "source": [
    "transformer['classifier'].module_"
   ]
  },
  {
   "cell_type": "code",
   "execution_count": 18,
   "metadata": {
    "execution": {
     "iopub.execute_input": "2021-06-11T17:51:05.687185Z",
     "iopub.status.busy": "2021-06-11T17:51:05.686655Z",
     "iopub.status.idle": "2021-06-11T17:51:06.532524Z",
     "shell.execute_reply": "2021-06-11T17:51:06.531916Z"
    }
   },
   "outputs": [],
   "source": [
    "categorical_transformer = pipeline.Pipeline(steps=[\n",
    "        ('label', LabelingTransformer())])\n",
    "\n",
    "numerical_transformer = pipeline.Pipeline(steps=[\n",
    "        ('scaler', preprocessing.MinMaxScaler())\n",
    "])\n",
    "\n",
    "preprocessing_pipe = pipeline.Pipeline([\n",
    "    ('reordering', ReorderTransformer(categorical_columns=categorical_cols, numerical_columns=numerical_cols)),\n",
    "    ('columns_transformer', compose.ColumnTransformer(\n",
    "        remainder='drop', \n",
    "        transformers=[\n",
    "            ('categorical_transformer', categorical_transformer , categorical_cols),\n",
    "            ('numerical_transformer', numerical_transformer , numerical_cols)\n",
    "        ])\n",
    "    )\n",
    "])\n",
    "\n",
    "\n",
    "pipe = CustomMetricPipeline(metrics.balanced_accuracy_score, [\n",
    "    ('feature_concat', pipeline.FeatureUnion([\n",
    "        ('original_data_preprocessing', preprocessing_pipe), \n",
    "        ('attention_extraction', AttentionTransformer('../Models/transformer_v4/transformer_v4_baseline.jl'))        \n",
    "    ])),\n",
    "    ('classifier', ClusterMultitree(n_features=len(columns) - 1, random_state=SEED))\n",
    "])\n",
    "    "
   ]
  },
  {
   "cell_type": "code",
   "execution_count": 19,
   "metadata": {
    "execution": {
     "iopub.execute_input": "2021-06-11T17:51:06.537814Z",
     "iopub.status.busy": "2021-06-11T17:51:06.537150Z",
     "iopub.status.idle": "2021-06-11T17:57:07.219055Z",
     "shell.execute_reply": "2021-06-11T17:57:07.218701Z"
    }
   },
   "outputs": [
    {
     "name": "stdout",
     "output_type": "stream",
     "text": [
      "Fitting 1 folds for each of 56 candidates, totalling 56 fits\n",
      "[CV 1/1] END classifier__max_depth=1, classifier__n_clusters=2; total time=   0.5s\n",
      "[CV 1/1] END classifier__max_depth=1, classifier__n_clusters=4; total time=   0.3s\n",
      "[CV 1/1] END classifier__max_depth=1, classifier__n_clusters=6; total time=   0.4s\n",
      "[CV 1/1] END classifier__max_depth=1, classifier__n_clusters=8; total time=   0.4s\n",
      "[CV 1/1] END classifier__max_depth=2, classifier__n_clusters=2; total time=   0.3s\n",
      "[CV 1/1] END classifier__max_depth=2, classifier__n_clusters=4; total time=   0.4s\n",
      "[CV 1/1] END classifier__max_depth=2, classifier__n_clusters=6; total time=   0.4s\n",
      "[CV 1/1] END classifier__max_depth=2, classifier__n_clusters=8; total time=   0.4s\n",
      "[CV 1/1] END classifier__max_depth=3, classifier__n_clusters=2; total time=   0.4s\n",
      "[CV 1/1] END classifier__max_depth=3, classifier__n_clusters=4; total time=   0.4s\n",
      "[CV 1/1] END classifier__max_depth=3, classifier__n_clusters=6; total time=   0.4s\n",
      "[CV 1/1] END classifier__max_depth=3, classifier__n_clusters=8; total time=   0.4s\n",
      "[CV 1/1] END classifier__max_depth=4, classifier__n_clusters=2; total time=   0.3s\n",
      "[CV 1/1] END classifier__max_depth=4, classifier__n_clusters=4; total time=   0.4s\n",
      "[CV 1/1] END classifier__max_depth=4, classifier__n_clusters=6; total time=   0.4s\n",
      "[CV 1/1] END classifier__max_depth=4, classifier__n_clusters=8; total time=   0.4s\n",
      "[CV 1/1] END classifier__max_depth=5, classifier__n_clusters=2; total time=   0.4s\n",
      "[CV 1/1] END classifier__max_depth=5, classifier__n_clusters=4; total time=   0.3s\n",
      "[CV 1/1] END classifier__max_depth=5, classifier__n_clusters=6; total time=   0.3s\n",
      "[CV 1/1] END classifier__max_depth=5, classifier__n_clusters=8; total time=   0.4s\n",
      "[CV 1/1] END classifier__max_depth=6, classifier__n_clusters=2; total time=   0.3s\n",
      "[CV 1/1] END classifier__max_depth=6, classifier__n_clusters=4; total time=   0.4s\n",
      "[CV 1/1] END classifier__max_depth=6, classifier__n_clusters=6; total time=   0.3s\n",
      "[CV 1/1] END classifier__max_depth=6, classifier__n_clusters=8; total time=   0.4s\n",
      "[CV 1/1] END classifier__max_depth=7, classifier__n_clusters=2; total time=   0.3s\n",
      "[CV 1/1] END classifier__max_depth=7, classifier__n_clusters=4; total time=   0.4s\n",
      "[CV 1/1] END classifier__max_depth=7, classifier__n_clusters=6; total time=   0.3s\n",
      "[CV 1/1] END classifier__max_depth=7, classifier__n_clusters=8; total time=   0.3s\n",
      "[CV 1/1] END classifier__max_depth=8, classifier__n_clusters=2; total time=   0.3s\n",
      "[CV 1/1] END classifier__max_depth=8, classifier__n_clusters=4; total time=   0.4s\n",
      "[CV 1/1] END classifier__max_depth=8, classifier__n_clusters=6; total time=   0.3s\n",
      "[CV 1/1] END classifier__max_depth=8, classifier__n_clusters=8; total time=   0.4s\n",
      "[CV 1/1] END classifier__max_depth=9, classifier__n_clusters=2; total time=   0.3s\n",
      "[CV 1/1] END classifier__max_depth=9, classifier__n_clusters=4; total time=   0.4s\n",
      "[CV 1/1] END classifier__max_depth=9, classifier__n_clusters=6; total time=   0.3s\n",
      "[CV 1/1] END classifier__max_depth=9, classifier__n_clusters=8; total time=   0.4s\n",
      "[CV 1/1] END classifier__max_depth=10, classifier__n_clusters=2; total time=   0.3s\n",
      "[CV 1/1] END classifier__max_depth=10, classifier__n_clusters=4; total time=   0.3s\n",
      "[CV 1/1] END classifier__max_depth=10, classifier__n_clusters=6; total time=   0.3s\n",
      "[CV 1/1] END classifier__max_depth=10, classifier__n_clusters=8; total time=   0.5s\n",
      "[CV 1/1] END classifier__max_depth=11, classifier__n_clusters=2; total time=   0.4s\n",
      "[CV 1/1] END classifier__max_depth=11, classifier__n_clusters=4; total time=   0.4s\n",
      "[CV 1/1] END classifier__max_depth=11, classifier__n_clusters=6; total time=   0.3s\n",
      "[CV 1/1] END classifier__max_depth=11, classifier__n_clusters=8; total time=   0.4s\n",
      "[CV 1/1] END classifier__max_depth=12, classifier__n_clusters=2; total time=   0.3s\n",
      "[CV 1/1] END classifier__max_depth=12, classifier__n_clusters=4; total time=   0.4s\n",
      "[CV 1/1] END classifier__max_depth=12, classifier__n_clusters=6; total time=   0.4s\n",
      "[CV 1/1] END classifier__max_depth=12, classifier__n_clusters=8; total time=   0.4s\n",
      "[CV 1/1] END classifier__max_depth=13, classifier__n_clusters=2; total time=   0.3s\n",
      "[CV 1/1] END classifier__max_depth=13, classifier__n_clusters=4; total time=   0.4s\n",
      "[CV 1/1] END classifier__max_depth=13, classifier__n_clusters=6; total time=   0.3s\n",
      "[CV 1/1] END classifier__max_depth=13, classifier__n_clusters=8; total time=   0.5s\n",
      "[CV 1/1] END classifier__max_depth=14, classifier__n_clusters=2; total time=   0.3s\n",
      "[CV 1/1] END classifier__max_depth=14, classifier__n_clusters=4; total time=   0.4s\n",
      "[CV 1/1] END classifier__max_depth=14, classifier__n_clusters=6; total time=   0.4s\n",
      "[CV 1/1] END classifier__max_depth=14, classifier__n_clusters=8; total time=   0.4s\n"
     ]
    }
   ],
   "source": [
    "param_grid = {\n",
    "    'classifier__n_clusters': [x for x in range(2, 10, 2)],#[2 ** x for x in range(1, 11)],\n",
    "    'classifier__max_depth': [x for x in range(1, 15)]\n",
    "}\n",
    "\n",
    "clf = model_selection.GridSearchCV(\n",
    "    pipe,\n",
    "    param_grid, \n",
    "    cv=((train_indices, dev_indices),),\n",
    "    scoring='balanced_accuracy',\n",
    "    refit=False,\n",
    "    verbose=3,\n",
    ")\n",
    "\n",
    "clf = clf.fit(df.drop(label_col, axis=1), df[label_col])"
   ]
  },
  {
   "cell_type": "code",
   "execution_count": 20,
   "metadata": {
    "execution": {
     "iopub.execute_input": "2021-06-11T17:57:07.222157Z",
     "iopub.status.busy": "2021-06-11T17:57:07.221780Z",
     "iopub.status.idle": "2021-06-11T17:57:07.224193Z",
     "shell.execute_reply": "2021-06-11T17:57:07.224636Z"
    }
   },
   "outputs": [
    {
     "data": {
      "text/plain": [
       "{'classifier__max_depth': 1, 'classifier__n_clusters': 4}"
      ]
     },
     "execution_count": 20,
     "metadata": {},
     "output_type": "execute_result"
    }
   ],
   "source": [
    "clf.best_params_"
   ]
  },
  {
   "cell_type": "code",
   "execution_count": 21,
   "metadata": {
    "execution": {
     "iopub.execute_input": "2021-06-11T17:57:07.228925Z",
     "iopub.status.busy": "2021-06-11T17:57:07.228529Z",
     "iopub.status.idle": "2021-06-11T17:57:11.288028Z",
     "shell.execute_reply": "2021-06-11T17:57:11.286847Z"
    }
   },
   "outputs": [],
   "source": [
    "pipe.set_params(**clf.best_params_)\n",
    "_ = pipe.fit(train_df.drop(label_col, axis=1), train_df[label_col])"
   ]
  },
  {
   "cell_type": "code",
   "execution_count": 22,
   "metadata": {
    "execution": {
     "iopub.execute_input": "2021-06-11T17:57:11.292252Z",
     "iopub.status.busy": "2021-06-11T17:57:11.291861Z",
     "iopub.status.idle": "2021-06-11T17:57:14.491673Z",
     "shell.execute_reply": "2021-06-11T17:57:14.492234Z"
    }
   },
   "outputs": [
    {
     "data": {
      "text/plain": [
       "1.0"
      ]
     },
     "execution_count": 22,
     "metadata": {},
     "output_type": "execute_result"
    }
   ],
   "source": [
    "pipe.score(train_df.drop(label_col, axis=1), train_df[label_col])"
   ]
  },
  {
   "cell_type": "code",
   "execution_count": 23,
   "metadata": {
    "execution": {
     "iopub.execute_input": "2021-06-11T17:57:14.497604Z",
     "iopub.status.busy": "2021-06-11T17:57:14.496038Z",
     "iopub.status.idle": "2021-06-11T17:57:14.909767Z",
     "shell.execute_reply": "2021-06-11T17:57:14.909084Z"
    }
   },
   "outputs": [
    {
     "data": {
      "text/plain": [
       "1.0"
      ]
     },
     "execution_count": 23,
     "metadata": {},
     "output_type": "execute_result"
    }
   ],
   "source": [
    "pipe.score(dev_df.drop(label_col, axis=1), dev_df[label_col])"
   ]
  },
  {
   "cell_type": "code",
   "execution_count": 24,
   "metadata": {
    "execution": {
     "iopub.execute_input": "2021-06-11T17:57:14.915063Z",
     "iopub.status.busy": "2021-06-11T17:57:14.912107Z",
     "iopub.status.idle": "2021-06-11T17:57:16.842997Z",
     "shell.execute_reply": "2021-06-11T17:57:16.843693Z"
    }
   },
   "outputs": [
    {
     "data": {
      "text/plain": [
       "['../Models/cluster_multitree/cluster_multitree_baseline.jl']"
      ]
     },
     "execution_count": 24,
     "metadata": {},
     "output_type": "execute_result"
    }
   ],
   "source": [
    "joblib.dump(pipe, os.path.join(MODEL_DIR, 'cluster_multitree_baseline.jl')) "
   ]
  },
  {
   "cell_type": "code",
   "execution_count": null,
   "metadata": {},
   "outputs": [],
   "source": []
  }
 ],
 "metadata": {
  "kernelspec": {
   "display_name": "Python 3",
   "language": "python",
   "name": "python3"
  },
  "language_info": {
   "codemirror_mode": {
    "name": "ipython",
    "version": 3
   },
   "file_extension": ".py",
   "mimetype": "text/x-python",
   "name": "python",
   "nbconvert_exporter": "python",
   "pygments_lexer": "ipython3",
   "version": "3.8.8"
  }
 },
 "nbformat": 4,
 "nbformat_minor": 4
}
