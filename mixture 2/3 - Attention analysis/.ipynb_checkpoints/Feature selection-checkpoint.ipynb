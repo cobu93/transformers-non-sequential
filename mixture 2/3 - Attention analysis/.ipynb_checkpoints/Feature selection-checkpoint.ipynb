{
 "cells": [
  {
   "cell_type": "code",
   "execution_count": 1,
   "metadata": {
    "execution": {
     "iopub.execute_input": "2021-06-11T17:49:23.087182Z",
     "iopub.status.busy": "2021-06-11T17:49:23.086646Z",
     "iopub.status.idle": "2021-06-11T17:49:24.010506Z",
     "shell.execute_reply": "2021-06-11T17:49:24.009562Z"
    }
   },
   "outputs": [],
   "source": [
    "import sys\n",
    "sys.path.append('../Utils')\n",
    "\n",
    "import joblib\n",
    "import pandas as pd\n",
    "from sklearn import metrics, cluster, model_selection, decomposition, tree, pipeline, preprocessing, neighbors, compose, feature_selection, linear_model, ensemble\n",
    "from scipy import stats\n",
    "import numpy as np\n",
    "from utils import ReorderTransformer, LabelingTransformer, CustomMetricPipeline\n",
    "import matplotlib.pyplot as plt\n",
    "\n",
    "%matplotlib inline\n",
    "\n",
    "import sys\n",
    "import os\n",
    "import torch\n",
    "\n",
    "SEED = 42\n",
    "\n",
    "np.random.seed(SEED)"
   ]
  },
  {
   "cell_type": "code",
   "execution_count": 2,
   "metadata": {
    "execution": {
     "iopub.execute_input": "2021-06-11T17:49:24.013970Z",
     "iopub.status.busy": "2021-06-11T17:49:24.013370Z",
     "iopub.status.idle": "2021-06-11T17:49:24.015859Z",
     "shell.execute_reply": "2021-06-11T17:49:24.015020Z"
    }
   },
   "outputs": [],
   "source": [
    "DATASET_DIR = '../Dataset'"
   ]
  },
  {
   "cell_type": "markdown",
   "metadata": {},
   "source": [
    "## Dataset"
   ]
  },
  {
   "cell_type": "code",
   "execution_count": 3,
   "metadata": {
    "execution": {
     "iopub.execute_input": "2021-06-11T17:49:24.020427Z",
     "iopub.status.busy": "2021-06-11T17:49:24.019649Z",
     "iopub.status.idle": "2021-06-11T17:49:24.035015Z",
     "shell.execute_reply": "2021-06-11T17:49:24.034303Z"
    }
   },
   "outputs": [],
   "source": [
    "train_X, train_y = joblib.load(os.path.join(DATASET_DIR, 'attn_train.jl'))\n",
    "dev_X, dev_y = joblib.load(os.path.join(DATASET_DIR, 'attn_dev.jl'))"
   ]
  },
  {
   "cell_type": "code",
   "execution_count": 4,
   "metadata": {
    "execution": {
     "iopub.execute_input": "2021-06-11T17:49:24.039897Z",
     "iopub.status.busy": "2021-06-11T17:49:24.039162Z",
     "iopub.status.idle": "2021-06-11T17:49:24.049237Z",
     "shell.execute_reply": "2021-06-11T17:49:24.049549Z"
    }
   },
   "outputs": [],
   "source": [
    "X = np.concatenate((train_X, dev_X))\n",
    "y = np.concatenate((train_y, dev_y))"
   ]
  },
  {
   "cell_type": "code",
   "execution_count": 5,
   "metadata": {},
   "outputs": [],
   "source": [
    "train_df = pd.read_csv(os.path.join(DATASET_DIR, 'n_train.csv'))\n",
    "dev_df = pd.read_csv(os.path.join(DATASET_DIR, 'n_dev.csv'))\n",
    "\n",
    "df = pd.concat((train_df, dev_df))"
   ]
  },
  {
   "cell_type": "code",
   "execution_count": 6,
   "metadata": {
    "execution": {
     "iopub.execute_input": "2021-06-11T17:49:24.052348Z",
     "iopub.status.busy": "2021-06-11T17:49:24.051906Z",
     "iopub.status.idle": "2021-06-11T17:49:24.054644Z",
     "shell.execute_reply": "2021-06-11T17:49:24.053874Z"
    }
   },
   "outputs": [],
   "source": [
    "train_indices = np.arange(0, train_X.shape[0])\n",
    "dev_indices = np.arange(train_X.shape[0], train_X.shape[0] + dev_X.shape[0])"
   ]
  },
  {
   "cell_type": "code",
   "execution_count": 7,
   "metadata": {
    "execution": {
     "iopub.execute_input": "2021-06-11T17:49:24.058553Z",
     "iopub.status.busy": "2021-06-11T17:49:24.057683Z",
     "iopub.status.idle": "2021-06-11T17:49:24.059493Z",
     "shell.execute_reply": "2021-06-11T17:49:24.059995Z"
    }
   },
   "outputs": [],
   "source": [
    "ds_info = joblib.load(os.path.join(DATASET_DIR, 'ds_info.jl'))\n",
    "\n",
    "columns = ds_info['columns']\n",
    "numerical_cols = ds_info['numerical_columns']\n",
    "categorical_cols = ds_info['categorical_columns']\n",
    "label_col = ds_info['target_column']"
   ]
  },
  {
   "cell_type": "code",
   "execution_count": 8,
   "metadata": {},
   "outputs": [],
   "source": [
    "features = [col for col in columns]\n",
    "features.remove(label_col)\n",
    "features = np.array(features)"
   ]
  },
  {
   "cell_type": "markdown",
   "metadata": {},
   "source": [
    "## Used methods"
   ]
  },
  {
   "cell_type": "code",
   "execution_count": 9,
   "metadata": {},
   "outputs": [],
   "source": [
    "def get_preprocessing_pipe(categorical_cols, numerical_cols):\n",
    "    categorical_transformer = pipeline.Pipeline(steps=[\n",
    "        ('label', LabelingTransformer())])\n",
    "\n",
    "    numerical_transformer = pipeline.Pipeline(steps=[\n",
    "        ('scaler', preprocessing.MinMaxScaler())\n",
    "    ])\n",
    "\n",
    "    preprocessing_pipe = pipeline.Pipeline([\n",
    "        ('reordering', ReorderTransformer(categorical_columns=categorical_cols, numerical_columns=numerical_cols)),\n",
    "        ('columns_transformer', compose.ColumnTransformer(\n",
    "            remainder='drop', \n",
    "            transformers=[\n",
    "                ('categorical_transformer', categorical_transformer , categorical_cols),\n",
    "                ('numerical_transformer', numerical_transformer , numerical_cols)\n",
    "            ])\n",
    "        )\n",
    "    ])\n",
    "    \n",
    "    return preprocessing_pipe"
   ]
  },
  {
   "cell_type": "code",
   "execution_count": 10,
   "metadata": {},
   "outputs": [],
   "source": [
    "def train_tree_model(preprocessing_pipe, name):\n",
    "    \n",
    "    MODEL_DIR = '../Models/tree'\n",
    "    \n",
    "    pipe = CustomMetricPipeline(metrics.balanced_accuracy_score, [\n",
    "        ('preprocessing', preprocessing_pipe),\n",
    "        ('classifier', tree.DecisionTreeClassifier(random_state=SEED))\n",
    "    ])\n",
    "\n",
    "    param_grid = {\n",
    "        'classifier__max_depth': np.arange(1, 50)\n",
    "    }\n",
    "    scoring = {'acc': 'balanced_accuracy'}\n",
    "\n",
    "    clf = model_selection.GridSearchCV(\n",
    "        pipe, \n",
    "        param_grid, \n",
    "        cv=((train_indices, dev_indices),),\n",
    "        scoring=scoring,\n",
    "        refit='acc'\n",
    "    )\n",
    "\n",
    "    _ = clf.fit(df.drop(label_col, axis=1), df[label_col])\n",
    "\n",
    "    clf.best_params_\n",
    "\n",
    "    pipe.set_params(**clf.best_params_)\n",
    "    pipe = pipe.fit(train_df.drop(label_col, axis=1), train_df[label_col])\n",
    "    \n",
    "    \n",
    "    joblib.dump(pipe, os.path.join(MODEL_DIR, name)) \n",
    "    \n",
    "    return pipe"
   ]
  },
  {
   "cell_type": "code",
   "execution_count": 11,
   "metadata": {},
   "outputs": [],
   "source": [
    "def train_knn_model(preprocessing_pipe, name):\n",
    "    \n",
    "    MODEL_DIR = '../Models/knn'\n",
    "    \n",
    "    pipe = CustomMetricPipeline(metrics.balanced_accuracy_score, [\n",
    "        ('preprocessing', preprocessing_pipe),\n",
    "        ('classifier', neighbors.KNeighborsClassifier())\n",
    "    ])\n",
    "\n",
    "    param_grid = {\n",
    "        'classifier__n_neighbors': np.arange(1, 25)\n",
    "    }\n",
    "    scoring = {'acc': 'balanced_accuracy'}\n",
    "\n",
    "    clf = model_selection.GridSearchCV(\n",
    "        pipe, \n",
    "        param_grid, \n",
    "        cv=((train_indices, dev_indices),),\n",
    "        scoring=scoring,\n",
    "        refit='acc'\n",
    "    )\n",
    "\n",
    "    _ = clf.fit(df.drop(label_col, axis=1), df[label_col])\n",
    "\n",
    "    clf.best_params_\n",
    "\n",
    "    pipe.set_params(**clf.best_params_)\n",
    "    pipe = pipe.fit(train_df.drop(label_col, axis=1), train_df[label_col])\n",
    "        \n",
    "    joblib.dump(pipe, os.path.join(MODEL_DIR, name)) \n",
    "        \n",
    "    return pipe"
   ]
  },
  {
   "cell_type": "markdown",
   "metadata": {},
   "source": [
    "# Attention based"
   ]
  },
  {
   "cell_type": "markdown",
   "metadata": {},
   "source": [
    "## Attention visualization"
   ]
  },
  {
   "cell_type": "code",
   "execution_count": 12,
   "metadata": {
    "execution": {
     "iopub.execute_input": "2021-06-11T17:49:24.063414Z",
     "iopub.status.busy": "2021-06-11T17:49:24.062934Z",
     "iopub.status.idle": "2021-06-11T17:49:24.069305Z",
     "shell.execute_reply": "2021-06-11T17:49:24.068756Z"
    }
   },
   "outputs": [],
   "source": [
    "attn_mat = train_X.mean(axis=0)"
   ]
  },
  {
   "cell_type": "code",
   "execution_count": 13,
   "metadata": {
    "execution": {
     "iopub.execute_input": "2021-06-11T17:49:24.086859Z",
     "iopub.status.busy": "2021-06-11T17:49:24.083216Z",
     "iopub.status.idle": "2021-06-11T17:49:24.812572Z",
     "shell.execute_reply": "2021-06-11T17:49:24.813253Z"
    }
   },
   "outputs": [
    {
     "data": {
      "image/png": "[encoded data removed]",
      "text/plain": [
       "<Figure size 1080x576 with 1 Axes>"
      ]
     },
     "metadata": {
      "needs_background": "light"
     },
     "output_type": "display_data"
    }
   ],
   "source": [
    "fig, ax = plt.subplots(figsize=(15, 8))\n",
    "\n",
    "ax.imshow(attn_mat)\n",
    "\n",
    "ax.set(title='Mean attention matrix')\n",
    "\n",
    "ax.set_xticks(np.arange(features.shape[0]))\n",
    "ax.set_yticks(np.arange(features.shape[0]))\n",
    "\n",
    "ax.set_xticklabels(features, rotation=45, ha='right')\n",
    "ax.set_yticklabels(features)    \n",
    "\n",
    "for i in range(features.shape[0]):\n",
    "    for j in range(features.shape[0]):\n",
    "        text = ax.text(j, i, np.around(attn_mat[i, j], decimals=2), ha=\"center\", va=\"center\", color=\"w\")\n",
    "\n",
    "\n",
    "fig.savefig('Mean attention.png')\n",
    "plt.show()"
   ]
  },
  {
   "cell_type": "markdown",
   "metadata": {},
   "source": [
    "## Feature selection"
   ]
  },
  {
   "cell_type": "code",
   "execution_count": 14,
   "metadata": {
    "execution": {
     "iopub.execute_input": "2021-06-11T17:49:24.817385Z",
     "iopub.status.busy": "2021-06-11T17:49:24.816928Z",
     "iopub.status.idle": "2021-06-11T17:49:24.819928Z",
     "shell.execute_reply": "2021-06-11T17:49:24.819480Z"
    }
   },
   "outputs": [],
   "source": [
    "def attn_feature_selection(attn_mat, entropy_scaler=0.95, prob_scaler=1.5):\n",
    "    # Uniform probability distribution and entropy\n",
    "    uniform_prob = 1 / attn_mat.shape[0]\n",
    "    max_entropy = -np.log(uniform_prob)\n",
    "    \n",
    "    # Entropy per row (each row is a distribution probability)\n",
    "    entropy = -(attn_mat * np.log(attn_mat + 1e-15)).sum(axis=1)\n",
    "    \n",
    "    # Select those rows where attention entropy is lower than entropy_scaler times max_entropy\n",
    "    rows_indices = np.argwhere(entropy < entropy_scaler * max_entropy).flatten()\n",
    "    \n",
    "    # Select those cells where probability is at most prob_threshold\n",
    "    sub_mat_indices = np.argwhere(uniform_prob * prob_scaler < attn_mat[rows_indices]) \n",
    "    \n",
    "    # Replace sub matrix indices with original indices\n",
    "    sub_mat_indices[:, 0] = rows_indices[sub_mat_indices[:, 0]]\n",
    "    \n",
    "    # Create feature selection mask\n",
    "    # mask = np.zeros(attn_mat.shape)\n",
    "    # mask[sub_mat_indices[:, 0], sub_mat_indices[:, 1]] = 1\n",
    "    \n",
    "    return sub_mat_indices"
   ]
  },
  {
   "cell_type": "code",
   "execution_count": 15,
   "metadata": {
    "execution": {
     "iopub.execute_input": "2021-06-11T17:49:24.823424Z",
     "iopub.status.busy": "2021-06-11T17:49:24.822985Z",
     "iopub.status.idle": "2021-06-11T17:49:24.824885Z",
     "shell.execute_reply": "2021-06-11T17:49:24.825319Z"
    }
   },
   "outputs": [],
   "source": [
    "def attn_columns_selection(columns, attn_indices):\n",
    "    \n",
    "    attn_features = columns[np.unique(attn_indices.flatten())]\n",
    "    \n",
    "    return attn_features"
   ]
  },
  {
   "cell_type": "code",
   "execution_count": 16,
   "metadata": {
    "execution": {
     "iopub.execute_input": "2021-06-11T17:49:24.828862Z",
     "iopub.status.busy": "2021-06-11T17:49:24.828436Z",
     "iopub.status.idle": "2021-06-11T17:49:24.830631Z",
     "shell.execute_reply": "2021-06-11T17:49:24.830179Z"
    }
   },
   "outputs": [],
   "source": [
    "attn_indices = attn_feature_selection(attn_mat, entropy_scaler=0.7, prob_scaler=2)\n",
    "attn_features = attn_columns_selection(features, attn_indices)"
   ]
  },
  {
   "cell_type": "code",
   "execution_count": 17,
   "metadata": {
    "execution": {
     "iopub.execute_input": "2021-06-11T17:49:24.833522Z",
     "iopub.status.busy": "2021-06-11T17:49:24.833089Z",
     "iopub.status.idle": "2021-06-11T17:49:24.835357Z",
     "shell.execute_reply": "2021-06-11T17:49:24.835785Z"
    }
   },
   "outputs": [
    {
     "data": {
      "text/plain": [
       "array(['V1', 'V2', 'V5', 'V6', 'V8', 'V10', 'V11', 'V12', 'V13', 'V15',\n",
       "       'V16', 'V17', 'V18', 'V20'], dtype='<U3')"
      ]
     },
     "execution_count": 17,
     "metadata": {},
     "output_type": "execute_result"
    }
   ],
   "source": [
    "attn_features"
   ]
  },
  {
   "cell_type": "markdown",
   "metadata": {},
   "source": [
    "### Load dataset"
   ]
  },
  {
   "cell_type": "code",
   "execution_count": 18,
   "metadata": {
    "execution": {
     "iopub.execute_input": "2021-06-11T17:49:24.938151Z",
     "iopub.status.busy": "2021-06-11T17:49:24.937722Z",
     "iopub.status.idle": "2021-06-11T17:49:24.939425Z",
     "shell.execute_reply": "2021-06-11T17:49:24.939851Z"
    }
   },
   "outputs": [],
   "source": [
    "attn_features_list = attn_features.tolist()"
   ]
  },
  {
   "cell_type": "code",
   "execution_count": 19,
   "metadata": {
    "execution": {
     "iopub.execute_input": "2021-06-11T17:49:24.943077Z",
     "iopub.status.busy": "2021-06-11T17:49:24.942653Z",
     "iopub.status.idle": "2021-06-11T17:49:24.944183Z",
     "shell.execute_reply": "2021-06-11T17:49:24.944547Z"
    }
   },
   "outputs": [],
   "source": [
    "columns = attn_features_list.copy()\n",
    "columns.append(label_col)\n",
    "\n",
    "attn_numerical_cols = list(set(numerical_cols) & set(attn_features_list))\n",
    "attn_categorical_cols = list(set(categorical_cols) & set(attn_features_list))"
   ]
  },
  {
   "cell_type": "code",
   "execution_count": 20,
   "metadata": {},
   "outputs": [],
   "source": [
    "preprocessing_pipe = get_preprocessing_pipe(attn_categorical_cols, attn_numerical_cols)"
   ]
  },
  {
   "cell_type": "markdown",
   "metadata": {},
   "source": [
    "### Decision tree"
   ]
  },
  {
   "cell_type": "code",
   "execution_count": 21,
   "metadata": {
    "execution": {
     "iopub.execute_input": "2021-06-11T17:49:24.947038Z",
     "iopub.status.busy": "2021-06-11T17:49:24.946614Z",
     "iopub.status.idle": "2021-06-11T17:49:24.948111Z",
     "shell.execute_reply": "2021-06-11T17:49:24.948539Z"
    }
   },
   "outputs": [
    {
     "name": "stdout",
     "output_type": "stream",
     "text": [
      "Train score: 0.7620834996590236\n",
      "Dev score: 0.6553944390682506\n"
     ]
    }
   ],
   "source": [
    "pipe = train_tree_model(preprocessing_pipe, 'tree_attn_fs.jl')\n",
    "\n",
    "print('Train score: {}'.format(pipe.score(train_df.drop(label_col, axis=1), train_df[label_col])))\n",
    "print('Dev score: {}'.format(pipe.score(dev_df.drop(label_col, axis=1), dev_df[label_col])))"
   ]
  },
  {
   "cell_type": "markdown",
   "metadata": {},
   "source": [
    "### KNN"
   ]
  },
  {
   "cell_type": "code",
   "execution_count": 22,
   "metadata": {},
   "outputs": [
    {
     "name": "stdout",
     "output_type": "stream",
     "text": [
      "Train score: 0.6800093382262364\n",
      "Dev score: 0.626854469395064\n"
     ]
    }
   ],
   "source": [
    "pipe = train_knn_model(preprocessing_pipe, 'knn_attn_fs.jl')\n",
    "\n",
    "print('Train score: {}'.format(pipe.score(train_df.drop(label_col, axis=1), train_df[label_col])))\n",
    "print('Dev score: {}'.format(pipe.score(dev_df.drop(label_col, axis=1), dev_df[label_col])))"
   ]
  },
  {
   "cell_type": "markdown",
   "metadata": {},
   "source": [
    "# Testing other methods"
   ]
  },
  {
   "cell_type": "code",
   "execution_count": 23,
   "metadata": {},
   "outputs": [],
   "source": [
    "preprocessing_pipe = get_preprocessing_pipe(categorical_cols, numerical_cols)\n",
    "preprocessed_train_df = preprocessing_pipe.fit_transform(train_df.drop(label_col, axis=1))"
   ]
  },
  {
   "cell_type": "code",
   "execution_count": 24,
   "metadata": {},
   "outputs": [],
   "source": [
    "n_features = len(attn_features)"
   ]
  },
  {
   "cell_type": "markdown",
   "metadata": {},
   "source": [
    "### Pearson correlation"
   ]
  },
  {
   "cell_type": "code",
   "execution_count": 25,
   "metadata": {},
   "outputs": [],
   "source": [
    "def get_selected_features(df, y, columns, num_feats):\n",
    "    features = []\n",
    "    corr_coefs = []\n",
    "    \n",
    "    for i in range(df.shape[1]):\n",
    "        coef = np.corrcoef(df[:, i], y)[0, 1]\n",
    "        corr_coefs.append(coef)\n",
    "    \n",
    "    # replace NaN with 0\n",
    "    corr_coefs = [0 if np.isnan(i) else i for i in corr_coefs]\n",
    "    \n",
    "    # feature name\n",
    "    sorted_indices = np.argsort(np.abs(corr_coefs))\n",
    "    corr_feature = columns[sorted_indices][-num_feats:]\n",
    "        \n",
    "    # feature selection? 0 for not select, 1 for select\n",
    "    corr_support = [True if i in corr_feature else False for i in columns]\n",
    "    \n",
    "    return corr_support, corr_feature\n",
    "\n",
    "_, pearson_features = get_selected_features(preprocessed_train_df, train_y, features, num_feats=n_features)\n",
    "pearson_features = pearson_features.tolist()"
   ]
  },
  {
   "cell_type": "code",
   "execution_count": 26,
   "metadata": {},
   "outputs": [],
   "source": [
    "preprocessing_pipe = get_preprocessing_pipe(\n",
    "    list(set(categorical_cols) & set(pearson_features)), \n",
    "    list(set(numerical_cols) & set(pearson_features))\n",
    ")"
   ]
  },
  {
   "cell_type": "code",
   "execution_count": 27,
   "metadata": {},
   "outputs": [
    {
     "name": "stdout",
     "output_type": "stream",
     "text": [
      "Train score: 0.9516539370190401\n",
      "Dev score: 0.9323018660895936\n"
     ]
    }
   ],
   "source": [
    "pipe = train_tree_model(preprocessing_pipe, 'tree_pearson_fs.jl')\n",
    "\n",
    "print('Train score: {}'.format(pipe.score(train_df.drop(label_col, axis=1), train_df[label_col])))\n",
    "print('Dev score: {}'.format(pipe.score(dev_df.drop(label_col, axis=1), dev_df[label_col])))"
   ]
  },
  {
   "cell_type": "code",
   "execution_count": 28,
   "metadata": {},
   "outputs": [
    {
     "name": "stdout",
     "output_type": "stream",
     "text": [
      "Train score: 0.8967050792585127\n",
      "Dev score: 0.8458228243559363\n"
     ]
    }
   ],
   "source": [
    "pipe = train_knn_model(preprocessing_pipe, 'knn_pearson_fs.jl')\n",
    "\n",
    "print('Train score: {}'.format(pipe.score(train_df.drop(label_col, axis=1), train_df[label_col])))\n",
    "print('Dev score: {}'.format(pipe.score(dev_df.drop(label_col, axis=1), dev_df[label_col])))"
   ]
  },
  {
   "cell_type": "markdown",
   "metadata": {},
   "source": [
    "### Chi-Squared"
   ]
  },
  {
   "cell_type": "code",
   "execution_count": 29,
   "metadata": {},
   "outputs": [
    {
     "data": {
      "text/plain": [
       "['V4',\n",
       " 'V5',\n",
       " 'V7',\n",
       " 'V9',\n",
       " 'V10',\n",
       " 'V11',\n",
       " 'V13',\n",
       " 'V14',\n",
       " 'V15',\n",
       " 'V16',\n",
       " 'V17',\n",
       " 'V18',\n",
       " 'V19',\n",
       " 'V20']"
      ]
     },
     "execution_count": 29,
     "metadata": {},
     "output_type": "execute_result"
    }
   ],
   "source": [
    "chi_selector = feature_selection.SelectKBest(feature_selection.chi2, k=n_features)\n",
    "chi_selector.fit(preprocessed_train_df, train_y)\n",
    "chi_support = chi_selector.get_support()\n",
    "\n",
    "chi_features = features[chi_support].tolist()\n",
    "chi_features"
   ]
  },
  {
   "cell_type": "code",
   "execution_count": 30,
   "metadata": {},
   "outputs": [],
   "source": [
    "preprocessing_pipe = get_preprocessing_pipe(\n",
    "    list(set(categorical_cols) & set(chi_features)), \n",
    "    list(set(numerical_cols) & set(chi_features))\n",
    ")"
   ]
  },
  {
   "cell_type": "code",
   "execution_count": 31,
   "metadata": {},
   "outputs": [
    {
     "name": "stdout",
     "output_type": "stream",
     "text": [
      "Train score: 0.9516539370190401\n",
      "Dev score: 0.9351535771162096\n"
     ]
    }
   ],
   "source": [
    "pipe = train_tree_model(preprocessing_pipe, 'tree_chi_fs.jl')\n",
    "\n",
    "print('Train score: {}'.format(pipe.score(train_df.drop(label_col, axis=1), train_df[label_col])))\n",
    "print('Dev score: {}'.format(pipe.score(dev_df.drop(label_col, axis=1), dev_df[label_col])))"
   ]
  },
  {
   "cell_type": "code",
   "execution_count": 32,
   "metadata": {},
   "outputs": [
    {
     "name": "stdout",
     "output_type": "stream",
     "text": [
      "Train score: 0.8446101798518668\n",
      "Dev score: 0.8313051959432172\n"
     ]
    }
   ],
   "source": [
    "pipe = train_knn_model(preprocessing_pipe, 'knn_chi_fs.jl')\n",
    "\n",
    "print('Train score: {}'.format(pipe.score(train_df.drop(label_col, axis=1), train_df[label_col])))\n",
    "print('Dev score: {}'.format(pipe.score(dev_df.drop(label_col, axis=1), dev_df[label_col])))"
   ]
  },
  {
   "cell_type": "markdown",
   "metadata": {},
   "source": [
    "### Tree based (Random forest)"
   ]
  },
  {
   "cell_type": "code",
   "execution_count": 33,
   "metadata": {},
   "outputs": [
    {
     "data": {
      "text/plain": [
       "['V7', 'V9']"
      ]
     },
     "execution_count": 33,
     "metadata": {},
     "output_type": "execute_result"
    }
   ],
   "source": [
    "embeded_rf_selector = feature_selection.SelectFromModel(\n",
    "    ensemble.RandomForestClassifier(n_estimators=100), \n",
    "    max_features=n_features\n",
    ")\n",
    "\n",
    "embeded_rf_selector.fit(preprocessed_train_df, train_y)\n",
    "\n",
    "embeded_rf_support = embeded_rf_selector.get_support()\n",
    "embeded_rf_features = features[embeded_rf_support].tolist()\n",
    "embeded_rf_features"
   ]
  },
  {
   "cell_type": "code",
   "execution_count": 34,
   "metadata": {},
   "outputs": [],
   "source": [
    "preprocessing_pipe = get_preprocessing_pipe(\n",
    "    list(set(categorical_cols) & set(embeded_rf_features)),\n",
    "    list(set(numerical_cols) & set(embeded_rf_features))\n",
    ")"
   ]
  },
  {
   "cell_type": "code",
   "execution_count": 35,
   "metadata": {},
   "outputs": [
    {
     "data": {
      "text/plain": [
       "Pipeline(steps=[('reordering',\n",
       "                 ReorderTransformer(categorical_columns=[],\n",
       "                                    numerical_columns=['V9', 'V7'])),\n",
       "                ('columns_transformer',\n",
       "                 ColumnTransformer(transformers=[('categorical_transformer',\n",
       "                                                  Pipeline(steps=[('label',\n",
       "                                                                   LabelingTransformer())]),\n",
       "                                                  []),\n",
       "                                                 ('numerical_transformer',\n",
       "                                                  Pipeline(steps=[('scaler',\n",
       "                                                                   MinMaxScaler())]),\n",
       "                                                  ['V9', 'V7'])]))])"
      ]
     },
     "execution_count": 35,
     "metadata": {},
     "output_type": "execute_result"
    }
   ],
   "source": [
    "preprocessing_pipe.fit(train_df.drop(label_col, axis=1), train_df[label_col])"
   ]
  },
  {
   "cell_type": "code",
   "execution_count": 36,
   "metadata": {},
   "outputs": [
    {
     "name": "stdout",
     "output_type": "stream",
     "text": [
      "Train score: 0.9194618201582927\n",
      "Dev score: 0.9214855566646601\n"
     ]
    }
   ],
   "source": [
    "pipe = train_tree_model(preprocessing_pipe, 'tree_tb_fs.jl')\n",
    "\n",
    "print('Train score: {}'.format(pipe.score(train_df.drop(label_col, axis=1), train_df[label_col])))\n",
    "print('Dev score: {}'.format(pipe.score(dev_df.drop(label_col, axis=1), dev_df[label_col])))"
   ]
  },
  {
   "cell_type": "code",
   "execution_count": 37,
   "metadata": {},
   "outputs": [
    {
     "name": "stdout",
     "output_type": "stream",
     "text": [
      "Train score: 0.9198163425732104\n",
      "Dev score: 0.930040689744508\n"
     ]
    }
   ],
   "source": [
    "pipe = train_knn_model(preprocessing_pipe, 'knn_tb_fs.jl')\n",
    "\n",
    "print('Train score: {}'.format(pipe.score(train_df.drop(label_col, axis=1), train_df[label_col])))\n",
    "print('Dev score: {}'.format(pipe.score(dev_df.drop(label_col, axis=1), dev_df[label_col])))"
   ]
  },
  {
   "cell_type": "code",
   "execution_count": null,
   "metadata": {},
   "outputs": [],
   "source": []
  },
  {
   "cell_type": "code",
   "execution_count": null,
   "metadata": {},
   "outputs": [],
   "source": []
  }
 ],
 "metadata": {
  "kernelspec": {
   "display_name": "Python 3",
   "language": "python",
   "name": "python3"
  },
  "language_info": {
   "codemirror_mode": {
    "name": "ipython",
    "version": 3
   },
   "file_extension": ".py",
   "mimetype": "text/x-python",
   "name": "python",
   "nbconvert_exporter": "python",
   "pygments_lexer": "ipython3",
   "version": "3.8.8"
  }
 },
 "nbformat": 4,
 "nbformat_minor": 4
}
